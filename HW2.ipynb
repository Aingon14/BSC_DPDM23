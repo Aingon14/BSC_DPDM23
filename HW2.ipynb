{
  "nbformat": 4,
  "nbformat_minor": 0,
  "metadata": {
    "colab": {
      "provenance": [],
      "toc_visible": true,
      "authorship_tag": "ABX9TyOr29ZRAAKJK349DowQ/Y1D",
      "include_colab_link": true
    },
    "kernelspec": {
      "name": "python3",
      "display_name": "Python 3"
    },
    "language_info": {
      "name": "python"
    }
  },
  "cells": [
    {
      "cell_type": "markdown",
      "metadata": {
        "id": "view-in-github",
        "colab_type": "text"
      },
      "source": [
        "<a href=\"https://colab.research.google.com/github/Aingon14/BSC_DPDM23/blob/main/HW2.ipynb\" target=\"_parent\"><img src=\"https://colab.research.google.com/assets/colab-badge.svg\" alt=\"Open In Colab\"/></a>"
      ]
    },
    {
      "cell_type": "code",
      "execution_count": null,
      "metadata": {
        "id": "YYgck_QA9481"
      },
      "outputs": [],
      "source": [
        "# HW2\n",
        "นางสาวอิงอร พลพาล 643021279-6"
      ]
    },
    {
      "cell_type": "markdown",
      "source": [
        "https://drive.google.com/file/d/1Gj3oUtUiBaNfCuvaQby20LdcX8lZUfed/view?usp=drivesdk"
      ],
      "metadata": {
        "id": "-wnwh04q_xMU"
      }
    }
  ]
}